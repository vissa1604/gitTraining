{
  "nbformat": 4,
  "nbformat_minor": 0,
  "metadata": {
    "colab": {
      "provenance": [],
      "collapsed_sections": [],
      "authorship_tag": "ABX9TyOV1wYZGWYqHaU0LbUu8YCq",
      "include_colab_link": true
    },
    "kernelspec": {
      "name": "python3",
      "display_name": "Python 3"
    },
    "language_info": {
      "name": "python"
    }
  },
  "cells": [
    {
      "cell_type": "markdown",
      "metadata": {
        "id": "view-in-github",
        "colab_type": "text"
      },
      "source": [
        "<a href=\"https://colab.research.google.com/github/vissa1604/gitTraining/blob/master/bibliography_classification.ipynb\" target=\"_parent\"><img src=\"https://colab.research.google.com/assets/colab-badge.svg\" alt=\"Open In Colab\"/></a>"
      ]
    },
    {
      "cell_type": "code",
      "execution_count": 1,
      "metadata": {
        "id": "RWh8Y-IJCbau"
      },
      "outputs": [],
      "source": [
        "import re\n",
        "import numpy as np\n",
        "import pandas as pd\n",
        "from google.colab import drive"
      ]
    },
    {
      "cell_type": "markdown",
      "source": [
        "### Mounting drive to read the training files"
      ],
      "metadata": {
        "id": "CdqY7o21GlrU"
      }
    },
    {
      "cell_type": "code",
      "source": [
        "drive.mount('/content/drive')"
      ],
      "metadata": {
        "id": "rzvuBu02GKsD"
      },
      "execution_count": null,
      "outputs": []
    },
    {
      "cell_type": "code",
      "source": [
        "!ls \"/content/drive/My Drive\""
      ],
      "metadata": {
        "id": "ufS_FcXYCkwd"
      },
      "execution_count": null,
      "outputs": []
    },
    {
      "cell_type": "code",
      "source": [
        "%cd /content/drive/My Drive/bibliography_identification/"
      ],
      "metadata": {
        "id": "2AFycbafJDU2"
      },
      "execution_count": null,
      "outputs": []
    },
    {
      "cell_type": "code",
      "source": [
        "df = pd.read_excel('citationlist.xlsx')"
      ],
      "metadata": {
        "id": "4XAT2Mg-JlUr"
      },
      "execution_count": null,
      "outputs": []
    },
    {
      "cell_type": "code",
      "source": [
        "df = df.sample(n=10000)"
      ],
      "metadata": {
        "id": "8nV5XO6EQ-h1"
      },
      "execution_count": null,
      "outputs": []
    },
    {
      "cell_type": "code",
      "source": [
        "df.drop_duplicates(inplace=True)"
      ],
      "metadata": {
        "id": "LXWtHOrjJuCm"
      },
      "execution_count": null,
      "outputs": []
    },
    {
      "cell_type": "code",
      "source": [
        "def clean_string(data):                                                       \n",
        "  try:\n",
        "    text_data = data\n",
        "    text_data = re.sub(r'^https?:\\/\\/<>.*[\\r\\n]*','',text_data,flags=re.MULTILINE) \n",
        "    text_data= re.sub(r\"[^A-Za-z]\",\" \",text_data)\n",
        "    text_data = text_data.replace(\"\\n\",\"\").strip()\n",
        "    return text_data\n",
        "  except:\n",
        "    return data"
      ],
      "metadata": {
        "id": "Y5tH2m_nJ09R"
      },
      "execution_count": null,
      "outputs": []
    },
    {
      "cell_type": "code",
      "source": [
        "cleaned_data = []\n",
        "for text in df['References'].values:\n",
        "  cleaned_text = clean_string(text)\n",
        "  cleaned_data.append(cleaned_text)\n",
        "\n"
      ],
      "metadata": {
        "id": "8F8oK0rqKUmn"
      },
      "execution_count": null,
      "outputs": []
    },
    {
      "cell_type": "code",
      "source": [
        "import tensorflow_hub as hub"
      ],
      "metadata": {
        "id": "C7WOIXVyLT_p"
      },
      "execution_count": null,
      "outputs": []
    },
    {
      "cell_type": "code",
      "source": [
        "embed = hub.load(\"https://tfhub.dev/google/universal-sentence-encoder/4\")"
      ],
      "metadata": {
        "id": "H2ceumTTLX0n"
      },
      "execution_count": null,
      "outputs": []
    },
    {
      "cell_type": "code",
      "source": [
        "cleaned_data = [str(data) for data in cleaned_data]"
      ],
      "metadata": {
        "id": "kTupcVKOP2r9"
      },
      "execution_count": null,
      "outputs": []
    },
    {
      "cell_type": "code",
      "source": [
        "embeddings = embed(cleaned_data)"
      ],
      "metadata": {
        "id": "xYUgcP-wLkKk"
      },
      "execution_count": null,
      "outputs": []
    },
    {
      "cell_type": "code",
      "source": [
        "from sklearn.feature_extraction.text import TfidfVectorizer\n",
        "from sklearn.model_selection import train_test_split"
      ],
      "metadata": {
        "id": "mwOMNpsDO9Bf"
      },
      "execution_count": null,
      "outputs": []
    },
    {
      "cell_type": "code",
      "source": [
        "vector = TfidfVectorizer()"
      ],
      "metadata": {
        "id": "eKSVvTXgPQdl"
      },
      "execution_count": null,
      "outputs": []
    },
    {
      "cell_type": "code",
      "source": [
        "X = vector.fit_transform(cleaned_data)\n",
        "X.shape"
      ],
      "metadata": {
        "id": "AKhujbr8PdIr"
      },
      "execution_count": null,
      "outputs": []
    },
    {
      "cell_type": "code",
      "source": [
        "vect = X.toarray()"
      ],
      "metadata": {
        "id": "f3FLfsC8QDaJ"
      },
      "execution_count": null,
      "outputs": []
    },
    {
      "cell_type": "code",
      "source": [
        "df['References'] = vect"
      ],
      "metadata": {
        "id": "viDWB6nMR87K"
      },
      "execution_count": null,
      "outputs": []
    },
    {
      "cell_type": "code",
      "source": [
        "X = np.array(df['References']).reshape(-1, 1)\n",
        "Y = df['Citation']"
      ],
      "metadata": {
        "id": "03yMA5tWSFDk"
      },
      "execution_count": null,
      "outputs": []
    },
    {
      "cell_type": "code",
      "source": [
        "X.shape, Y.shape"
      ],
      "metadata": {
        "id": "mOl3gEpZU2q7"
      },
      "execution_count": null,
      "outputs": []
    },
    {
      "cell_type": "code",
      "source": [
        "X_train, X_test, Y_train, Y_test = train_test_split(X, Y)"
      ],
      "metadata": {
        "id": "jYWuX0tASvmH"
      },
      "execution_count": null,
      "outputs": []
    },
    {
      "cell_type": "code",
      "source": [
        "from sklearn.linear_model import LogisticRegression"
      ],
      "metadata": {
        "id": "Zj3uUvzsTvDd"
      },
      "execution_count": null,
      "outputs": []
    },
    {
      "cell_type": "code",
      "source": [
        "alg = LogisticRegression()"
      ],
      "metadata": {
        "id": "qEoQDEkLT_gV"
      },
      "execution_count": null,
      "outputs": []
    },
    {
      "cell_type": "code",
      "source": [
        "alg.fit(X_train, Y_train)"
      ],
      "metadata": {
        "id": "3VWHSGNaUKlm"
      },
      "execution_count": null,
      "outputs": []
    },
    {
      "cell_type": "code",
      "source": [
        "y_predict = alg.predict(X_test)"
      ],
      "metadata": {
        "id": "5cD0xmxzVZOR"
      },
      "execution_count": null,
      "outputs": []
    },
    {
      "cell_type": "code",
      "source": [
        "alg.score(X_train, Y_train)"
      ],
      "metadata": {
        "id": "5R_FBOnzVZII"
      },
      "execution_count": null,
      "outputs": []
    },
    {
      "cell_type": "code",
      "source": [
        "alg.score(X_test, Y_test)"
      ],
      "metadata": {
        "id": "aZRntajoVuS_"
      },
      "execution_count": null,
      "outputs": []
    },
    {
      "cell_type": "code",
      "source": [
        "from sklearn.ensemble import RandomForestClassifier\n",
        "classifier = RandomForestClassifier(n_estimators = 100)\n",
        "classifier.fit(X_train, Y_train)"
      ],
      "metadata": {
        "id": "7kamNUUZp8XV"
      },
      "execution_count": null,
      "outputs": []
    },
    {
      "cell_type": "code",
      "source": [
        "y_pred = classifier.predict(X_test)"
      ],
      "metadata": {
        "id": "0ypJySxrrQkw"
      },
      "execution_count": null,
      "outputs": []
    },
    {
      "cell_type": "code",
      "source": [
        "train_score = classifier.score(X_train, Y_train)\n",
        "test_score = classifier.score(X_test, Y_test)\n",
        "\n",
        "train_score, test_score"
      ],
      "metadata": {
        "id": "cXRgAniJrXCp"
      },
      "execution_count": null,
      "outputs": []
    }
  ]
}